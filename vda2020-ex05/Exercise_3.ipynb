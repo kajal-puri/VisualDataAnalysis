{
 "cells": [
  {
   "cell_type": "markdown",
   "metadata": {},
   "source": [
    "**3a) When dealing with data from K classes in a p-dimensional space, what is the minimum number\n",
    "n of samples x i ∈ R p for which S_W can be invertible? Briefly justify your answer."
   ]
  },
  {
   "cell_type": "markdown",
   "metadata": {},
   "source": [
    "Answer : S_W(Within class scatter matrix) needs to be non-singular for it to be invertible.Since Sw is a function of N−K or fewer linearly independent vectors, it's rank is N−K or less. Therefore, Sw is a singular matrix if N is less than n+K, or, analogously might be unstable if N << n. \n",
    "\n",
    "So the p-dimensional training samples from the original vector space are projected to a lower dimensional spaceusing PCA. Then LDA is applied next to find the best linear discriminant features on that PCA subspace. This has at most K−1 eigenvectors with non-zero, real corresponding eigenvalues.So the singularity problem of the within-class scatter matrix Sw is then overcome if the number of retained principal components varies from at least K to at most N-K PCA features."
   ]
  },
  {
   "cell_type": "markdown",
   "metadata": {},
   "source": [
    "**3b) Load the data in the file LDA-input.csv (from the lecture webpage) into Python. Use the\n",
    "implementation of LinearDiscriminantAnalysis from sklearn to perform an LDA based on\n",
    "the given class information. When you instantiate the LinearDiscriminantAnalysis, select\n",
    "solver=’eigen’ to use the algorithm described in the lecture. Submit your code and a plot of the result."
   ]
  },
  {
   "cell_type": "code",
   "execution_count": 124,
   "metadata": {},
   "outputs": [
    {
     "name": "stdout",
     "output_type": "stream",
     "text": [
      "The condition number without shrinkage: 23573178.257312734\n"
     ]
    },
    {
     "data": {
      "image/png": "[encoded data removed]",
      "text/plain": [
       "<Figure size 432x288 with 1 Axes>"
      ]
     },
     "metadata": {
      "needs_background": "light"
     },
     "output_type": "display_data"
    }
   ],
   "source": [
    "import numpy as np\n",
    "import matplotlib.pyplot as plt\n",
    "import numpy as np\n",
    "import scipy as sp\n",
    "import seaborn as sns\n",
    "import pandas as pd\n",
    "from numpy import linalg as LA\n",
    "from sklearn.discriminant_analysis import LinearDiscriminantAnalysis\n",
    "\n",
    "\n",
    "lda_data= pd.read_csv(\"LDA-input.csv\", delimiter=',')\n",
    "data_complete=pd.DataFrame(lda_data)\n",
    "\n",
    "y=data_complete['class']\n",
    "colnames=data_complete.columns\n",
    "x= data_complete[colnames[:-1]]\n",
    "\n",
    "clf= LinearDiscriminantAnalysis(solver='eigen')\n",
    "lda=clf.fit_transform(X=x,y=y)\n",
    "sns.scatterplot(x=lda[:,0],y=lda[:,1],hue=data_complete['class'])\n",
    "print(\"The condition number without shrinkage:\" ,LA.cond(lda))\n"
   ]
  },
  {
   "cell_type": "code",
   "execution_count": null,
   "metadata": {},
   "outputs": [],
   "source": []
  },
  {
   "cell_type": "code",
   "execution_count": 123,
   "metadata": {},
   "outputs": [
    {
     "name": "stdout",
     "output_type": "stream",
     "text": [
      "The condition number with shrinkage: 1.4599597984108197\n"
     ]
    },
    {
     "data": {
      "image/png": "[encoded data removed]",
      "text/plain": [
       "<Figure size 432x288 with 1 Axes>"
      ]
     },
     "metadata": {
      "needs_background": "light"
     },
     "output_type": "display_data"
    }
   ],
   "source": [
    "clf= LinearDiscriminantAnalysis(solver='eigen',shrinkage=\"auto\")\n",
    "lda1=clf.fit_transform(X=x,y=y)\n",
    "sns.scatterplot(x=lda1[:,0],y=lda1[:,1],hue=data_complete['class'])\n",
    "print(\"The condition number with shrinkage:\" ,LA.cond(lda1))"
   ]
  },
  {
   "cell_type": "code",
   "execution_count": null,
   "metadata": {},
   "outputs": [],
   "source": []
  },
  {
   "cell_type": "markdown",
   "metadata": {},
   "source": [
    "**3c)I would prefer the graph which is being generated with \"shrinkage=auto\" because, variance within the class which is S_w cannot be properly estimated from the first graph which is without shrinkage."
   ]
  },
  {
   "cell_type": "markdown",
   "metadata": {},
   "source": [
    "**3d) Since the condition number of S_w with shrinkage is close to 1 which interprets that the matrix is far from being singular and thus, it is invertible."
   ]
  },
  {
   "cell_type": "markdown",
   "metadata": {},
   "source": []
  },
  {
   "cell_type": "code",
   "execution_count": null,
   "metadata": {},
   "outputs": [],
   "source": []
  },
  {
   "cell_type": "code",
   "execution_count": null,
   "metadata": {},
   "outputs": [],
   "source": []
  },
  {
   "cell_type": "code",
   "execution_count": null,
   "metadata": {},
   "outputs": [],
   "source": []
  },
  {
   "cell_type": "code",
   "execution_count": null,
   "metadata": {},
   "outputs": [],
   "source": []
  },
  {
   "cell_type": "markdown",
   "metadata": {},
   "source": []
  },
  {
   "cell_type": "code",
   "execution_count": null,
   "metadata": {},
   "outputs": [],
   "source": []
  },
  {
   "cell_type": "code",
   "execution_count": null,
   "metadata": {},
   "outputs": [],
   "source": []
  },
  {
   "cell_type": "code",
   "execution_count": null,
   "metadata": {},
   "outputs": [],
   "source": []
  },
  {
   "cell_type": "code",
   "execution_count": null,
   "metadata": {},
   "outputs": [],
   "source": []
  },
  {
   "cell_type": "code",
   "execution_count": null,
   "metadata": {},
   "outputs": [],
   "source": []
  },
  {
   "cell_type": "code",
   "execution_count": null,
   "metadata": {},
   "outputs": [],
   "source": []
  },
  {
   "cell_type": "code",
   "execution_count": null,
   "metadata": {},
   "outputs": [],
   "source": []
  },
  {
   "cell_type": "code",
   "execution_count": null,
   "metadata": {},
   "outputs": [],
   "source": []
  }
 ],
 "metadata": {
  "kernelspec": {
   "display_name": "Python 3",
   "language": "python",
   "name": "python3"
  },
  "language_info": {
   "codemirror_mode": {
    "name": "ipython",
    "version": 3
   },
   "file_extension": ".py",
   "mimetype": "text/x-python",
   "name": "python",
   "nbconvert_exporter": "python",
   "pygments_lexer": "ipython3",
   "version": "3.7.6"
  }
 },
 "nbformat": 4,
 "nbformat_minor": 4
}
