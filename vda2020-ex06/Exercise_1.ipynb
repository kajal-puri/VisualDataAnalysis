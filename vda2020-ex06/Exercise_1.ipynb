{
 "cells": [
  {
   "cell_type": "code",
   "execution_count": 163,
   "metadata": {},
   "outputs": [],
   "source": [
    "import os\n",
    "os.environ[\"PATH\"] += os.pathsep + '/usr/lib/x86_64-linux-gnu/graphviz'\n"
   ]
  },
  {
   "cell_type": "code",
   "execution_count": 164,
   "metadata": {},
   "outputs": [
    {
     "data": {
      "text/html": [
       "<div>\n",
       "<style scoped>\n",
       "    .dataframe tbody tr th:only-of-type {\n",
       "        vertical-align: middle;\n",
       "    }\n",
       "\n",
       "    .dataframe tbody tr th {\n",
       "        vertical-align: top;\n",
       "    }\n",
       "\n",
       "    .dataframe thead th {\n",
       "        text-align: right;\n",
       "    }\n",
       "</style>\n",
       "<table border=\"1\" class=\"dataframe\">\n",
       "  <thead>\n",
       "    <tr style=\"text-align: right;\">\n",
       "      <th></th>\n",
       "      <th>code</th>\n",
       "      <th>thickness</th>\n",
       "      <th>uniCelS</th>\n",
       "      <th>uniCelShape</th>\n",
       "      <th>marAdh</th>\n",
       "      <th>epiCelSize</th>\n",
       "      <th>bareNuc</th>\n",
       "      <th>blaChroma</th>\n",
       "      <th>normNuc</th>\n",
       "      <th>mitoses</th>\n",
       "      <th>class</th>\n",
       "    </tr>\n",
       "  </thead>\n",
       "  <tbody>\n",
       "    <tr>\n",
       "      <th>0</th>\n",
       "      <td>1000025</td>\n",
       "      <td>5</td>\n",
       "      <td>1</td>\n",
       "      <td>1</td>\n",
       "      <td>1</td>\n",
       "      <td>2</td>\n",
       "      <td>1.0</td>\n",
       "      <td>3</td>\n",
       "      <td>1</td>\n",
       "      <td>1</td>\n",
       "      <td>2</td>\n",
       "    </tr>\n",
       "    <tr>\n",
       "      <th>1</th>\n",
       "      <td>1002945</td>\n",
       "      <td>5</td>\n",
       "      <td>4</td>\n",
       "      <td>4</td>\n",
       "      <td>5</td>\n",
       "      <td>7</td>\n",
       "      <td>10.0</td>\n",
       "      <td>3</td>\n",
       "      <td>2</td>\n",
       "      <td>1</td>\n",
       "      <td>2</td>\n",
       "    </tr>\n",
       "    <tr>\n",
       "      <th>2</th>\n",
       "      <td>1015425</td>\n",
       "      <td>3</td>\n",
       "      <td>1</td>\n",
       "      <td>1</td>\n",
       "      <td>1</td>\n",
       "      <td>2</td>\n",
       "      <td>2.0</td>\n",
       "      <td>3</td>\n",
       "      <td>1</td>\n",
       "      <td>1</td>\n",
       "      <td>2</td>\n",
       "    </tr>\n",
       "    <tr>\n",
       "      <th>3</th>\n",
       "      <td>1016277</td>\n",
       "      <td>6</td>\n",
       "      <td>8</td>\n",
       "      <td>8</td>\n",
       "      <td>1</td>\n",
       "      <td>3</td>\n",
       "      <td>4.0</td>\n",
       "      <td>3</td>\n",
       "      <td>7</td>\n",
       "      <td>1</td>\n",
       "      <td>2</td>\n",
       "    </tr>\n",
       "    <tr>\n",
       "      <th>4</th>\n",
       "      <td>1017023</td>\n",
       "      <td>4</td>\n",
       "      <td>1</td>\n",
       "      <td>1</td>\n",
       "      <td>3</td>\n",
       "      <td>2</td>\n",
       "      <td>1.0</td>\n",
       "      <td>3</td>\n",
       "      <td>1</td>\n",
       "      <td>1</td>\n",
       "      <td>2</td>\n",
       "    </tr>\n",
       "  </tbody>\n",
       "</table>\n",
       "</div>"
      ],
      "text/plain": [
       "      code  thickness  uniCelS  uniCelShape  marAdh  epiCelSize  bareNuc  \\\n",
       "0  1000025          5        1            1       1           2      1.0   \n",
       "1  1002945          5        4            4       5           7     10.0   \n",
       "2  1015425          3        1            1       1           2      2.0   \n",
       "3  1016277          6        8            8       1           3      4.0   \n",
       "4  1017023          4        1            1       3           2      1.0   \n",
       "\n",
       "   blaChroma  normNuc  mitoses  class  \n",
       "0          3        1        1      2  \n",
       "1          3        2        1      2  \n",
       "2          3        1        1      2  \n",
       "3          3        7        1      2  \n",
       "4          3        1        1      2  "
      ]
     },
     "execution_count": 164,
     "metadata": {},
     "output_type": "execute_result"
    }
   ],
   "source": [
    "import numpy as np\n",
    "import matplotlib.pyplot as plt\n",
    "import forcelayout as fl\n",
    "import pandas as pd\n",
    "import seaborn as sns\n",
    "from sklearn.impute import SimpleImputer\n",
    "from scipy.stats.stats import pearsonr\n",
    "from graphviz import Digraph\n",
    "\n",
    "from numpy import cov\n",
    "cancer_data = pd.read_excel(\"breast-cancer-wisconsin.xlsx\")\n",
    "cancer_data.head()"
   ]
  },
  {
   "cell_type": "code",
   "execution_count": 165,
   "metadata": {},
   "outputs": [
    {
     "data": {
      "text/plain": [
       "code            0\n",
       "thickness       0\n",
       "uniCelS         0\n",
       "uniCelShape     0\n",
       "marAdh          0\n",
       "epiCelSize      0\n",
       "bareNuc        16\n",
       "blaChroma       0\n",
       "normNuc         0\n",
       "mitoses         0\n",
       "class           0\n",
       "dtype: int64"
      ]
     },
     "execution_count": 165,
     "metadata": {},
     "output_type": "execute_result"
    }
   ],
   "source": [
    "cancer_data.isnull().sum()"
   ]
  },
  {
   "cell_type": "code",
   "execution_count": 166,
   "metadata": {},
   "outputs": [
    {
     "data": {
      "text/plain": [
       "<matplotlib.axes._subplots.AxesSubplot at 0x7f93be04ebd0>"
      ]
     },
     "execution_count": 166,
     "metadata": {},
     "output_type": "execute_result"
    },
    {
     "data": {
      "image/png": "[encoded data removed]",
      "text/plain": [
       "<Figure size 432x288 with 1 Axes>"
      ]
     },
     "metadata": {
      "needs_background": "light"
     },
     "output_type": "display_data"
    }
   ],
   "source": [
    "sns.countplot(cancer_data['bareNuc'])"
   ]
  },
  {
   "cell_type": "code",
   "execution_count": 167,
   "metadata": {},
   "outputs": [
    {
     "data": {
      "text/plain": [
       "16"
      ]
     },
     "execution_count": 167,
     "metadata": {},
     "output_type": "execute_result"
    }
   ],
   "source": [
    "cancer_data['bareNuc'].isnull().sum()"
   ]
  },
  {
   "cell_type": "code",
   "execution_count": 168,
   "metadata": {},
   "outputs": [
    {
     "data": {
      "text/plain": [
       "code           0\n",
       "thickness      0\n",
       "uniCelS        0\n",
       "uniCelShape    0\n",
       "marAdh         0\n",
       "epiCelSize     0\n",
       "bareNuc        0\n",
       "blaChroma      0\n",
       "normNuc        0\n",
       "mitoses        0\n",
       "class          0\n",
       "dtype: int64"
      ]
     },
     "execution_count": 168,
     "metadata": {},
     "output_type": "execute_result"
    }
   ],
   "source": [
    "impute = SimpleImputer(missing_values=np.NaN, strategy='most_frequent')\n",
    "data_complete = pd.DataFrame(impute.fit_transform(cancer_data))\n",
    "data_complete.columns = cancer_data.columns\n",
    "data_complete.index = cancer_data.index\n",
    "data_complete.isnull().sum()"
   ]
  },
  {
   "cell_type": "markdown",
   "metadata": {},
   "source": [
    "**1a)Use the Breast Cancer Dataset dataset breast-cancer-wisconsin.xlsx and fill in the missing\n",
    "values. Then compute the Pearson correlation between any pair of variables, and store them in a\n",
    "matrix."
   ]
  },
  {
   "cell_type": "code",
   "execution_count": 169,
   "metadata": {},
   "outputs": [
    {
     "name": "stdout",
     "output_type": "stream",
     "text": [
      "Pearsons correlation: 0.907\n",
      "[[1.         0.90688191]\n",
      " [0.90688191 1.        ]]\n"
     ]
    }
   ],
   "source": [
    "corr, _ = pearsonr(data_complete['uniCelS'], data_complete['uniCelShape'])\n",
    "print('Pearsons correlation: %.3f' % corr)\n",
    "covariance= np.corrcoef(data_complete['uniCelS'], data_complete['uniCelShape'])\n",
    "print(covariance)"
   ]
  },
  {
   "cell_type": "markdown",
   "metadata": {},
   "source": [
    "**1b)Create a graph from the correlation matrix and visualize it with a force-directed layout. Represent\n",
    "each variable as a node in the graph. Insert an edge between two variables whenever the Pearson\n",
    "correlation between them exceeds the threshold ρ > 0.6."
   ]
  },
  {
   "cell_type": "code",
   "execution_count": 174,
   "metadata": {},
   "outputs": [
    {
     "data": {
      "text/plain": [
       "'process.gv.pdf'"
      ]
     },
     "execution_count": 174,
     "metadata": {},
     "output_type": "execute_result"
    }
   ],
   "source": [
    "from graphviz import Graph\n",
    "g = Graph('G',filename='process.gv', engine='fdp')\n",
    "g.attr(size='6,6')\n",
    "\n",
    "threshold = 0.6\n",
    "if corr > threshold:\n",
    "    g.edge('uniCelS', 'uniCelShape')\n",
    "g.view()"
   ]
  },
  {
   "cell_type": "markdown",
   "metadata": {},
   "source": [
    "**1c) Modify the visual attributes of edges to reflect the magnitude of the correlation."
   ]
  },
  {
   "cell_type": "code",
   "execution_count": 175,
   "metadata": {},
   "outputs": [
    {
     "data": {
      "text/plain": [
       "'process1.gv.pdf'"
      ]
     },
     "execution_count": 175,
     "metadata": {},
     "output_type": "execute_result"
    }
   ],
   "source": [
    "g = Graph('G',filename='process1.gv', engine='fdp')\n",
    "\n",
    "threshold = 0.6\n",
    "if corr > threshold:\n",
    "    g.edge('uniCelS', 'uniCelShape',penwidth='6.0',len='3.00')\n",
    "g.view()"
   ]
  },
  {
   "cell_type": "code",
   "execution_count": null,
   "metadata": {},
   "outputs": [],
   "source": []
  },
  {
   "cell_type": "markdown",
   "metadata": {},
   "source": [
    "**d) Produce an alternative visualization with a circular layout. Color the nodes so that there are four set of nodes, one color for having at least one correlation more than 0.9 to other nodes, another for having at least a correlation 0.8 < ρ max <= 0.9, one for having a correlation 0.6 < ρ max <= 0.8 and the last for the remaining nodes."
   ]
  },
  {
   "cell_type": "code",
   "execution_count": 176,
   "metadata": {
    "scrolled": true
   },
   "outputs": [
    {
     "data": {
      "text/html": [
       "<div>\n",
       "<style scoped>\n",
       "    .dataframe tbody tr th:only-of-type {\n",
       "        vertical-align: middle;\n",
       "    }\n",
       "\n",
       "    .dataframe tbody tr th {\n",
       "        vertical-align: top;\n",
       "    }\n",
       "\n",
       "    .dataframe thead th {\n",
       "        text-align: right;\n",
       "    }\n",
       "</style>\n",
       "<table border=\"1\" class=\"dataframe\">\n",
       "  <thead>\n",
       "    <tr style=\"text-align: right;\">\n",
       "      <th></th>\n",
       "      <th>code</th>\n",
       "      <th>thickness</th>\n",
       "      <th>uniCelS</th>\n",
       "      <th>uniCelShape</th>\n",
       "      <th>marAdh</th>\n",
       "      <th>epiCelSize</th>\n",
       "      <th>bareNuc</th>\n",
       "      <th>blaChroma</th>\n",
       "      <th>normNuc</th>\n",
       "      <th>mitoses</th>\n",
       "      <th>class</th>\n",
       "    </tr>\n",
       "  </thead>\n",
       "  <tbody>\n",
       "    <tr>\n",
       "      <th>code</th>\n",
       "      <td>1.000000</td>\n",
       "      <td>-0.055308</td>\n",
       "      <td>-0.041603</td>\n",
       "      <td>-0.041576</td>\n",
       "      <td>-0.064878</td>\n",
       "      <td>-0.045528</td>\n",
       "      <td>-0.092533</td>\n",
       "      <td>-0.060051</td>\n",
       "      <td>-0.052072</td>\n",
       "      <td>-0.034901</td>\n",
       "      <td>-0.080226</td>\n",
       "    </tr>\n",
       "    <tr>\n",
       "      <th>thickness</th>\n",
       "      <td>-0.055308</td>\n",
       "      <td>1.000000</td>\n",
       "      <td>0.644913</td>\n",
       "      <td>0.654589</td>\n",
       "      <td>0.486356</td>\n",
       "      <td>0.521816</td>\n",
       "      <td>0.590008</td>\n",
       "      <td>0.558428</td>\n",
       "      <td>0.535835</td>\n",
       "      <td>0.350034</td>\n",
       "      <td>0.716001</td>\n",
       "    </tr>\n",
       "    <tr>\n",
       "      <th>uniCelS</th>\n",
       "      <td>-0.041603</td>\n",
       "      <td>0.644913</td>\n",
       "      <td>1.000000</td>\n",
       "      <td>0.906882</td>\n",
       "      <td>0.705582</td>\n",
       "      <td>0.751799</td>\n",
       "      <td>0.686673</td>\n",
       "      <td>0.755721</td>\n",
       "      <td>0.722865</td>\n",
       "      <td>0.458693</td>\n",
       "      <td>0.817904</td>\n",
       "    </tr>\n",
       "    <tr>\n",
       "      <th>uniCelShape</th>\n",
       "      <td>-0.041576</td>\n",
       "      <td>0.654589</td>\n",
       "      <td>0.906882</td>\n",
       "      <td>1.000000</td>\n",
       "      <td>0.683079</td>\n",
       "      <td>0.719668</td>\n",
       "      <td>0.707474</td>\n",
       "      <td>0.735948</td>\n",
       "      <td>0.719446</td>\n",
       "      <td>0.438911</td>\n",
       "      <td>0.818934</td>\n",
       "    </tr>\n",
       "    <tr>\n",
       "      <th>marAdh</th>\n",
       "      <td>-0.064878</td>\n",
       "      <td>0.486356</td>\n",
       "      <td>0.705582</td>\n",
       "      <td>0.683079</td>\n",
       "      <td>1.000000</td>\n",
       "      <td>0.599599</td>\n",
       "      <td>0.666971</td>\n",
       "      <td>0.666715</td>\n",
       "      <td>0.603352</td>\n",
       "      <td>0.417633</td>\n",
       "      <td>0.696800</td>\n",
       "    </tr>\n",
       "    <tr>\n",
       "      <th>epiCelSize</th>\n",
       "      <td>-0.045528</td>\n",
       "      <td>0.521816</td>\n",
       "      <td>0.751799</td>\n",
       "      <td>0.719668</td>\n",
       "      <td>0.599599</td>\n",
       "      <td>1.000000</td>\n",
       "      <td>0.583701</td>\n",
       "      <td>0.616102</td>\n",
       "      <td>0.628881</td>\n",
       "      <td>0.479101</td>\n",
       "      <td>0.682785</td>\n",
       "    </tr>\n",
       "    <tr>\n",
       "      <th>bareNuc</th>\n",
       "      <td>-0.092533</td>\n",
       "      <td>0.590008</td>\n",
       "      <td>0.686673</td>\n",
       "      <td>0.707474</td>\n",
       "      <td>0.666971</td>\n",
       "      <td>0.583701</td>\n",
       "      <td>1.000000</td>\n",
       "      <td>0.674215</td>\n",
       "      <td>0.574778</td>\n",
       "      <td>0.342397</td>\n",
       "      <td>0.818968</td>\n",
       "    </tr>\n",
       "    <tr>\n",
       "      <th>blaChroma</th>\n",
       "      <td>-0.060051</td>\n",
       "      <td>0.558428</td>\n",
       "      <td>0.755721</td>\n",
       "      <td>0.735948</td>\n",
       "      <td>0.666715</td>\n",
       "      <td>0.616102</td>\n",
       "      <td>0.674215</td>\n",
       "      <td>1.000000</td>\n",
       "      <td>0.665878</td>\n",
       "      <td>0.344169</td>\n",
       "      <td>0.756616</td>\n",
       "    </tr>\n",
       "    <tr>\n",
       "      <th>normNuc</th>\n",
       "      <td>-0.052072</td>\n",
       "      <td>0.535835</td>\n",
       "      <td>0.722865</td>\n",
       "      <td>0.719446</td>\n",
       "      <td>0.603352</td>\n",
       "      <td>0.628881</td>\n",
       "      <td>0.574778</td>\n",
       "      <td>0.665878</td>\n",
       "      <td>1.000000</td>\n",
       "      <td>0.428336</td>\n",
       "      <td>0.712244</td>\n",
       "    </tr>\n",
       "    <tr>\n",
       "      <th>mitoses</th>\n",
       "      <td>-0.034901</td>\n",
       "      <td>0.350034</td>\n",
       "      <td>0.458693</td>\n",
       "      <td>0.438911</td>\n",
       "      <td>0.417633</td>\n",
       "      <td>0.479101</td>\n",
       "      <td>0.342397</td>\n",
       "      <td>0.344169</td>\n",
       "      <td>0.428336</td>\n",
       "      <td>1.000000</td>\n",
       "      <td>0.423170</td>\n",
       "    </tr>\n",
       "    <tr>\n",
       "      <th>class</th>\n",
       "      <td>-0.080226</td>\n",
       "      <td>0.716001</td>\n",
       "      <td>0.817904</td>\n",
       "      <td>0.818934</td>\n",
       "      <td>0.696800</td>\n",
       "      <td>0.682785</td>\n",
       "      <td>0.818968</td>\n",
       "      <td>0.756616</td>\n",
       "      <td>0.712244</td>\n",
       "      <td>0.423170</td>\n",
       "      <td>1.000000</td>\n",
       "    </tr>\n",
       "  </tbody>\n",
       "</table>\n",
       "</div>"
      ],
      "text/plain": [
       "                 code  thickness   uniCelS  uniCelShape    marAdh  epiCelSize  \\\n",
       "code         1.000000  -0.055308 -0.041603    -0.041576 -0.064878   -0.045528   \n",
       "thickness   -0.055308   1.000000  0.644913     0.654589  0.486356    0.521816   \n",
       "uniCelS     -0.041603   0.644913  1.000000     0.906882  0.705582    0.751799   \n",
       "uniCelShape -0.041576   0.654589  0.906882     1.000000  0.683079    0.719668   \n",
       "marAdh      -0.064878   0.486356  0.705582     0.683079  1.000000    0.599599   \n",
       "epiCelSize  -0.045528   0.521816  0.751799     0.719668  0.599599    1.000000   \n",
       "bareNuc     -0.092533   0.590008  0.686673     0.707474  0.666971    0.583701   \n",
       "blaChroma   -0.060051   0.558428  0.755721     0.735948  0.666715    0.616102   \n",
       "normNuc     -0.052072   0.535835  0.722865     0.719446  0.603352    0.628881   \n",
       "mitoses     -0.034901   0.350034  0.458693     0.438911  0.417633    0.479101   \n",
       "class       -0.080226   0.716001  0.817904     0.818934  0.696800    0.682785   \n",
       "\n",
       "              bareNuc  blaChroma   normNuc   mitoses     class  \n",
       "code        -0.092533  -0.060051 -0.052072 -0.034901 -0.080226  \n",
       "thickness    0.590008   0.558428  0.535835  0.350034  0.716001  \n",
       "uniCelS      0.686673   0.755721  0.722865  0.458693  0.817904  \n",
       "uniCelShape  0.707474   0.735948  0.719446  0.438911  0.818934  \n",
       "marAdh       0.666971   0.666715  0.603352  0.417633  0.696800  \n",
       "epiCelSize   0.583701   0.616102  0.628881  0.479101  0.682785  \n",
       "bareNuc      1.000000   0.674215  0.574778  0.342397  0.818968  \n",
       "blaChroma    0.674215   1.000000  0.665878  0.344169  0.756616  \n",
       "normNuc      0.574778   0.665878  1.000000  0.428336  0.712244  \n",
       "mitoses      0.342397   0.344169  0.428336  1.000000  0.423170  \n",
       "class        0.818968   0.756616  0.712244  0.423170  1.000000  "
      ]
     },
     "execution_count": 176,
     "metadata": {},
     "output_type": "execute_result"
    }
   ],
   "source": [
    "pearsoncorr = data_complete.corr(method='pearson')\n",
    "pearsoncorr"
   ]
  },
  {
   "cell_type": "code",
   "execution_count": 177,
   "metadata": {},
   "outputs": [
    {
     "data": {
      "text/plain": [
       "'1d.gv.pdf'"
      ]
     },
     "execution_count": 177,
     "metadata": {},
     "output_type": "execute_result"
    }
   ],
   "source": [
    "g = Graph('G',filename='1d.gv', engine='circo')\n",
    "g.attr(size='6,6')\n",
    "g.node('code')\n",
    "g.node('mitoses')\n",
    "\n",
    "g.node('uniCelS',style=\"filled\" ,fillcolor=\"#040666\",fontcolor='white')\n",
    "g.node('uniCelShape',style=\"filled\" ,fillcolor=\"#040666\",fontcolor='white')\n",
    "g.node('bareNuc',style=\"filled\" ,fillcolor=\"#497bb8\")\n",
    "g.node('class',style=\"filled\" ,fillcolor=\"#497bb8\")\n",
    "g.node('marAdh',style=\"filled\" ,fillcolor=\"#19fff4\")\n",
    "g.node('epiCelSize',style=\"filled\" ,fillcolor=\"#19fff4\")\n",
    "g.node('blaChroma',style=\"filled\" ,fillcolor=\"#19fff4\")\n",
    "g.node('thickness',style=\"filled\" ,fillcolor=\"#19fff4\")\n",
    "g.node('normNuc',style=\"filled\" ,fillcolor=\"#19fff4\")\n",
    "\n",
    "\n",
    "\n",
    "g.edge('class', 'bareNuc',penwidth='4.0',color=\"red\")\n",
    "g.edge('class', 'uniCelS',penwidth='4.0',color=\"red\")\n",
    "g.edge('class', 'normNuc',penwidth='2.0',color=\"red\")\n",
    "g.edge('class', 'epiCelSize',penwidth='1.0',color=\"red\")\n",
    "g.edge('class', 'blaChroma',penwidth='2.5',color=\"red\")\n",
    "g.edge('class', 'thickness',penwidth='1.0',color=\"red\")\n",
    "g.edge('class', 'marAdh',penwidth='1.0',color=\"red\")\n",
    "g.edge('class', 'uniCelShape',penwidth='3.0',color=\"red\")\n",
    "\n",
    "g.edge('bareNuc', 'uniCelShape',penwidth='1.5',color=\"red\")\n",
    "g.edge('bareNuc', 'uniCelS',penwidth='1.0',color=\"red\")\n",
    "g.edge('bareNuc', 'marAdh',penwidth='1.0',color=\"red\")\n",
    "g.edge('bareNuc', 'blaChroma',penwidth='1.0',color=\"red\")\n",
    "\n",
    "g.edge('uniCelS', 'uniCelShape',penwidth='6.0',color=\"red\")\n",
    "g.edge('uniCelS', 'normNuc',penwidth='1.0',color=\"red\")\n",
    "g.edge('uniCelS', 'epiCelSize',penwidth='2.0',color=\"red\")\n",
    "g.edge('uniCelS', 'blaChroma',penwidth='2.0',color=\"red\")\n",
    "g.edge('uniCelS', 'thickness',penwidth='0.2',color=\"red\")\n",
    "g.edge('uniCelS', 'marAdh',penwidth='1.0',color=\"red\")\n",
    "\n",
    "g.edge('normNuc', 'epiCelSize',penwidth='0.2',color=\"red\")\n",
    "g.edge('normNuc', 'blaChroma',penwidth='1.0',color=\"red\")\n",
    "g.edge('normNuc', 'uniCelShape',penwidth='1.5',color=\"red\")\n",
    "\n",
    "g.edge('epiCelSize', 'uniCelShape',penwidth='2.0',color=\"red\")\n",
    "\n",
    "g.edge('blaChroma', 'uniCelShape',penwidth='2.0',color=\"red\")\n",
    "g.edge('blaChroma', 'marAdh',penwidth='2.0',color=\"red\")\n",
    "\n",
    "g.edge('thickness', 'uniCelShape',penwidth='2.0',color=\"red\")\n",
    "\n",
    "g.edge('marAdh', 'uniCelShape',penwidth='2.0',color=\"red\")\n",
    "g.view()"
   ]
  },
  {
   "cell_type": "markdown",
   "metadata": {},
   "source": [
    "**1e)At the selected threshold, which nodes are disconnected from the rest of the graph and what do they indicate?\n"
   ]
  },
  {
   "cell_type": "markdown",
   "metadata": {},
   "source": [
    "Answer: From this visualization we can see 'code' and 'mitoses' do not have any edges with the other ones as the peasrson correlation coefficient is lower than a certain threshold. "
   ]
  },
  {
   "cell_type": "markdown",
   "metadata": {},
   "source": [
    "**If two nodes A and B are strongly correlated, and node C is strongly correlated with node B, can we conclude that node C will be also strongly correlated with node A?"
   ]
  },
  {
   "cell_type": "markdown",
   "metadata": {},
   "source": [
    "**Based on the visualization, which variables would you propose to predict the class?"
   ]
  },
  {
   "cell_type": "markdown",
   "metadata": {},
   "source": [
    "Answer: I would recommend uniCels, bareNuc and uniCelShape to predit the class."
   ]
  },
  {
   "cell_type": "code",
   "execution_count": null,
   "metadata": {},
   "outputs": [],
   "source": []
  },
  {
   "cell_type": "code",
   "execution_count": null,
   "metadata": {},
   "outputs": [],
   "source": []
  },
  {
   "cell_type": "code",
   "execution_count": null,
   "metadata": {},
   "outputs": [],
   "source": []
  },
  {
   "cell_type": "code",
   "execution_count": null,
   "metadata": {},
   "outputs": [],
   "source": []
  }
 ],
 "metadata": {
  "kernelspec": {
   "display_name": "Python 3",
   "language": "python",
   "name": "python3"
  },
  "language_info": {
   "codemirror_mode": {
    "name": "ipython",
    "version": 3
   },
   "file_extension": ".py",
   "mimetype": "text/x-python",
   "name": "python",
   "nbconvert_exporter": "python",
   "pygments_lexer": "ipython3",
   "version": "3.7.6"
  }
 },
 "nbformat": 4,
 "nbformat_minor": 4
}
